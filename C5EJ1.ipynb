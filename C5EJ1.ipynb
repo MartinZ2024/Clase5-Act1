{
 "cells": [
  {
   "cell_type": "markdown",
   "metadata": {},
   "source": [
    "Ejercicio #1\n",
    "1. Ingresar dos números por teclado a y b. Si a es mayor que b,\n",
    "imprimir ‘Hola Politécnico Malvinas’"
   ]
  },
  {
   "cell_type": "code",
   "execution_count": 5,
   "metadata": {},
   "outputs": [
    {
     "name": "stdout",
     "output_type": "stream",
     "text": [
      "Hola Politécnico Malvinas\n"
     ]
    }
   ],
   "source": [
    "a=int(input(\"Ingrese dato 1:\"))\n",
    "b=int(input(\"Ingrese dato 2:\"))\n",
    "if a>b:\n",
    "    print(\"Hola Politécnico Malvinas\")\n"
   ]
  },
  {
   "cell_type": "markdown",
   "metadata": {},
   "source": [
    "2. Ingresar dos números por teclado a y b. Si a no es igual a b, imprimir\n",
    "‘Hola Politécnico Malvinas’"
   ]
  },
  {
   "cell_type": "code",
   "execution_count": 7,
   "metadata": {},
   "outputs": [
    {
     "name": "stdout",
     "output_type": "stream",
     "text": [
      "Hola Politécnico Malvinas\n"
     ]
    }
   ],
   "source": [
    "a=int(input(\"Ingrese dato 1:\"))\n",
    "b=int(input(\"Ingrese dato 2:\"))\n",
    "if a!=b:\n",
    "    print(\"Hola Politécnico Malvinas\")"
   ]
  },
  {
   "cell_type": "markdown",
   "metadata": {},
   "source": [
    "3. Ingresar dos números por teclado a y b. Si a es igual a b, imprimir\n",
    "‘son iguales’ sino imprimir ‘son distintos’"
   ]
  },
  {
   "cell_type": "code",
   "execution_count": 10,
   "metadata": {},
   "outputs": [
    {
     "name": "stdout",
     "output_type": "stream",
     "text": [
      "Son iguales\n"
     ]
    }
   ],
   "source": [
    "a=int(input(\"Ingrese dato 1:\"))\n",
    "b=int(input(\"Ingrese dato 2:\"))\n",
    "if a==b:\n",
    "    print(\"Son iguales\")\n",
    "else:\n",
    "    print(\"Son distintos\")    "
   ]
  },
  {
   "cell_type": "markdown",
   "metadata": {},
   "source": [
    "4. Ingresar dos números por teclado a y b. Si a es igual a b, imprimir 1\n",
    "si a es mayor que b, imprimir 2 sino imprimir 3."
   ]
  },
  {
   "cell_type": "code",
   "execution_count": 11,
   "metadata": {},
   "outputs": [
    {
     "name": "stdout",
     "output_type": "stream",
     "text": [
      "3\n"
     ]
    }
   ],
   "source": [
    "a=int(input(\"Ingrese dato 1:\"))\n",
    "b=int(input(\"Ingrese dato 2:\"))\n",
    "if a==b:\n",
    "    print(\"1\")\n",
    "elif a>b:\n",
    "    print(\"2\")\n",
    "else:\n",
    "    print(\"3\")\n",
    "       "
   ]
  },
  {
   "cell_type": "markdown",
   "metadata": {},
   "source": [
    "5. Ingrese cuatro números por teclado a, b, c y d. Si a es igual b y c es\n",
    "igual a d, imprimir ‘Hola Politécnico Malvinas’"
   ]
  },
  {
   "cell_type": "code",
   "execution_count": 12,
   "metadata": {},
   "outputs": [
    {
     "name": "stdout",
     "output_type": "stream",
     "text": [
      "‘Hola Politécnico Malvinas’\n"
     ]
    }
   ],
   "source": [
    "a=int(input(\"Ingrese dato 1:\"))\n",
    "b=int(input(\"Ingrese dato 2:\"))\n",
    "c=int(input(\"Ingrese dato 3:\"))\n",
    "d=int(input(\"Ingrese dato 4:\"))\n",
    "if a==b and c==d:\n",
    "    print(\"‘Hola Politécnico Malvinas’\")"
   ]
  },
  {
   "cell_type": "markdown",
   "metadata": {},
   "source": [
    "6. Ingrese cuatro números por teclado a, b, c y d. Si a es igual b ó c es\n",
    "igual a d, imprimir ‘Hola Politécnico Malvinas’"
   ]
  },
  {
   "cell_type": "code",
   "execution_count": 13,
   "metadata": {},
   "outputs": [
    {
     "name": "stdout",
     "output_type": "stream",
     "text": [
      "‘Hola Politécnico Malvinas’\n"
     ]
    }
   ],
   "source": [
    "a=int(input(\"Ingrese dato 1:\"))\n",
    "b=int(input(\"Ingrese dato 2:\"))\n",
    "c=int(input(\"Ingrese dato 3:\"))\n",
    "d=int(input(\"Ingrese dato 4:\"))\n",
    "if a==b or c==d:\n",
    "    print(\"‘Hola Politécnico Malvinas’\")"
   ]
  },
  {
   "cell_type": "markdown",
   "metadata": {},
   "source": [
    "7. Ingresar la edad de una persona por teclado, mostrar por pantalla si\n",
    "es mayor o menor de edad."
   ]
  },
  {
   "cell_type": "code",
   "execution_count": 16,
   "metadata": {},
   "outputs": [
    {
     "name": "stdout",
     "output_type": "stream",
     "text": [
      "Menor de edad\n"
     ]
    }
   ],
   "source": [
    "edad=int(input(\"Ingrese la edad:\"))\n",
    "if edad>=18:\n",
    "    print(\"Mayor de edad\")\n",
    "else:\n",
    "    print(\"Menor de edad\")   "
   ]
  },
  {
   "cell_type": "markdown",
   "metadata": {},
   "source": [
    "8. Ingresar un número por teclado y mostrar por pantalla si es para o\n",
    "impar."
   ]
  },
  {
   "cell_type": "code",
   "execution_count": 19,
   "metadata": {},
   "outputs": [
    {
     "name": "stdout",
     "output_type": "stream",
     "text": [
      "El numero es par\n"
     ]
    }
   ],
   "source": [
    "a=int(input(\"Ingrese dato 1:\"))\n",
    "if a %2==0:\n",
    "    print(\"El numero es par\")\n",
    "else:\n",
    "    print(\"El numero es impar\")      "
   ]
  },
  {
   "cell_type": "markdown",
   "metadata": {},
   "source": [
    "9. Ingresar por teclado tres\n",
    "números y mostrar por pantalla el mayor de los tres."
   ]
  },
  {
   "cell_type": "code",
   "execution_count": 36,
   "metadata": {},
   "outputs": [
    {
     "name": "stdout",
     "output_type": "stream",
     "text": [
      "De los datos ingeresados: 1 5 5\n",
      "El dato_2: 5 y el dato_3: 5 Son iguales y mayores al dato_1: 1\n"
     ]
    }
   ],
   "source": [
    "a=int(input(\"Ingrese dato 1:\"))\n",
    "b=int(input(\"Ingrese dato 2:\"))\n",
    "c=int(input(\"Ingrese dato 3:\"))\n",
    "print(\"De los datos ingeresados:\",a,b,c)\n",
    "if a>b:\n",
    "    mayor=a\n",
    "    if mayor>c:\n",
    "        print(\"El mayor es\",mayor)\n",
    "    elif mayor<c:\n",
    "        print(\"El mayor es:\",c)\n",
    "    else:\n",
    "        print(\"El dato_1:\",mayor,\"y el dato_3:\",c,\"Son iguales y mayores al dato_2:\",b)    \n",
    "elif a<b:\n",
    "    mayor=b\n",
    "    if mayor>c:\n",
    "        print(\"El mayor es\",mayor)\n",
    "    elif mayor<c:\n",
    "        print(\"El mayor es:\",c)\n",
    "    else:\n",
    "        print(\"El dato_2:\",mayor,\"y el dato_3:\",c,\"Son iguales y mayores al dato_1:\",a)\n",
    "else:\n",
    "    mayor=a\n",
    "    if mayor>c:\n",
    "        print(\"El dato_1:\",mayor,\"y el dato_2:\",b,\"Son iguales y mayores al dato_3:\",c)\n",
    "    elif mayor<c:\n",
    "        print(\"El mayor es:\",c)\n",
    "    else:\n",
    "        print(\"El dato_1:\",mayor,\"el dato_2:\",b,\"y el dato_3\",c,\"Son iguales y no hay mayores\")             "
   ]
  },
  {
   "cell_type": "markdown",
   "metadata": {},
   "source": [
    "10. Ingresar por teclado un nombre, si la variable nombre, no es nula\n",
    "mostrar por pantalla ‘Bienvenido ‘+ nombre, sino mostrar\n",
    "‘Bienvenido anónimo’"
   ]
  },
  {
   "cell_type": "code",
   "execution_count": 21,
   "metadata": {},
   "outputs": [
    {
     "name": "stdout",
     "output_type": "stream",
     "text": [
      "‘Bienvenido anonimo‘\n"
     ]
    }
   ],
   "source": [
    "nombre=(input(\"Ingrese nombre:\"))\n",
    "if nombre!=\"\":\n",
    "    print(\"‘Bienvenido ‘\",nombre)\n",
    "else:\n",
    "    print(\"‘Bienvenido anonimo‘\")"
   ]
  }
 ],
 "metadata": {
  "kernelspec": {
   "display_name": "Python 3",
   "language": "python",
   "name": "python3"
  },
  "language_info": {
   "codemirror_mode": {
    "name": "ipython",
    "version": 3
   },
   "file_extension": ".py",
   "mimetype": "text/x-python",
   "name": "python",
   "nbconvert_exporter": "python",
   "pygments_lexer": "ipython3",
   "version": "3.11.5"
  }
 },
 "nbformat": 4,
 "nbformat_minor": 2
}
